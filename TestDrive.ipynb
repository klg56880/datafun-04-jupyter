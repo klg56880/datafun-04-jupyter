{
 "cells": [
  {
   "cell_type": "code",
   "execution_count": 9,
   "id": "4ae0bf39-37b1-48ff-a780-e82b6c241cac",
   "metadata": {},
   "outputs": [
    {
     "name": "stdout",
     "output_type": "stream",
     "text": [
      "Hello Jupyter!\n"
     ]
    }
   ],
   "source": [
    "print(\"Hello Jupyter!\")"
   ]
  },
  {
   "cell_type": "code",
   "execution_count": 10,
   "id": "c75d80a9",
   "metadata": {},
   "outputs": [
    {
     "name": "stdout",
     "output_type": "stream",
     "text": [
      "Good luck with Module 4\n"
     ]
    }
   ],
   "source": [
    "print(\"Good luck with Module 4\")"
   ]
  },
  {
   "cell_type": "code",
   "execution_count": 11,
   "id": "f1e21ce0",
   "metadata": {},
   "outputs": [
    {
     "name": "stdout",
     "output_type": "stream",
     "text": [
      "60\n"
     ]
    }
   ],
   "source": [
    "x = 12\n",
    "y = 5\n",
    "\n",
    "print(x*y)"
   ]
  },
  {
   "cell_type": "code",
   "execution_count": 12,
   "id": "e203691e",
   "metadata": {},
   "outputs": [
    {
     "name": "stdout",
     "output_type": "stream",
     "text": [
      "Counter({'e': 3, 'o': 3, ' ': 3, 'l': 2, 'W': 1, 'c': 1, 'm': 1, 't': 1, 'M': 1, 'd': 1, 'u': 1, '4': 1})\n"
     ]
    }
   ],
   "source": [
    "from collections import Counter\n",
    "\n",
    "text = \"Welcome to Module 4\"\n",
    "letter_counts = Counter(text)\n",
    "print(letter_counts)\n",
    "\n"
   ]
  },
  {
   "cell_type": "code",
   "execution_count": 13,
   "id": "8431a803",
   "metadata": {},
   "outputs": [
    {
     "name": "stdout",
     "output_type": "stream",
     "text": [
      "Counter({1: 2, 7: 2, 3: 1, 5: 1, 8: 1, 2: 1, 10: 1})\n"
     ]
    }
   ],
   "source": [
    "from collections import Counter\n",
    "\n",
    "multiset = Counter([1, 1, 3, 5, 7, 7, 8, 2, 10])\n",
    "print(multiset)"
   ]
  },
  {
   "cell_type": "code",
   "execution_count": 14,
   "id": "70617b0a",
   "metadata": {},
   "outputs": [
    {
     "name": "stdout",
     "output_type": "stream",
     "text": [
      "70\n"
     ]
    }
   ],
   "source": [
    "x = 5\n",
    "y = 2\n",
    "z = 10\n",
    "\n",
    "print((x+y)*z)"
   ]
  }
 ],
 "metadata": {
  "kernelspec": {
   "display_name": "Python 3 (ipykernel)",
   "language": "python",
   "name": "python3"
  },
  "language_info": {
   "codemirror_mode": {
    "name": "ipython",
    "version": 3
   },
   "file_extension": ".py",
   "mimetype": "text/x-python",
   "name": "python",
   "nbconvert_exporter": "python",
   "pygments_lexer": "ipython3",
   "version": "3.12.3"
  }
 },
 "nbformat": 4,
 "nbformat_minor": 5
}
